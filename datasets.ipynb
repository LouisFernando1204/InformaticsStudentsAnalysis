{
 "cells": [
  {
   "cell_type": "markdown",
   "metadata": {},
   "source": [
    "Dr. Eng. Chastine Fatichah, S.Kom, M.Kom. is the head of the Informatics Department, she want to examine the level of seriousness of students in pursuing their studies in the informatics department. So, make her a dataset for informatics students at Institut Teknologi Sepuluh Nopember (ITS) with several attributes such as name, class year, gender, GPA, involve in community, number of lecture attendance, average grade in informatics, number of competitions, number of bootcamps, number of awards, number of hours of independent study in 1 day. At least 300 students (Indonesian name) in CSV format."
   ]
  },
  {
   "cell_type": "code",
   "execution_count": 2,
   "metadata": {},
   "outputs": [
    {
     "name": "stdout",
     "output_type": "stream",
     "text": [
      "Dataset saved successfully at: C:\\Users\\Asus\\Desktop\\informatics_students_data.csv\n"
     ]
    }
   ],
   "source": [
    "import csv\n",
    "import random\n",
    "import os\n",
    "\n",
    "# Function to generate random Indonesian names\n",
    "def generate_name():\n",
    "    first_names = ['Adi', 'Budi', 'Cahya', 'Dewi', 'Eka', 'Fitri', 'Galih', 'Hadi', 'Indah', 'Joko', 'Kurnia', 'Laras', 'Mega', 'Nanda', 'Oktavia', 'Putri', 'Rudi', 'Sari', 'Tono', 'Utami']\n",
    "    last_names = ['Wijaya', 'Santoso', 'Hidayat', 'Kusuma', 'Nugroho', 'Lestari', 'Purnama', 'Saputra', 'Wibowo', 'Setiawan', 'Hartono', 'Gunawan', 'Surya', 'Pratama', 'Ningsih', 'Wulandari', 'Pangestu', 'Yulianto', 'Wijaya', 'Susilo']\n",
    "    return random.choice(first_names) + ' ' + random.choice(last_names)\n",
    "\n",
    "# Generate random data for each student\n",
    "def generate_student_data():\n",
    "    name = generate_name() #sudah \n",
    "    class_year = random.randint(2018, 2022) #DONE \n",
    "    gender = random.choice(['Male', 'Female']) #DONE\n",
    "    gpa = round(random.uniform(2.5, 4.0), 2) #DONE \n",
    "    involve_in_community = random.choice(['Yes', 'No']) #DONE \n",
    "    num_lecture_attendances = random.randint(60, 100) #DONE \n",
    "    avg_grade_informatics = round(random.uniform(60, 100), 2) #DONE\n",
    "    num_competitions = random.randint(0, 10) #DONE\n",
    "    num_bootcamps = random.randint(0, 10)\n",
    "    num_awards = random.randint(0, 5)\n",
    "    hours_independent_study = random.randint(0, 5) #DONE\n",
    "    \n",
    "    return [name, class_year, gender, gpa, involve_in_community, num_lecture_attendances, avg_grade_informatics, \n",
    "            num_competitions, num_bootcamps, num_awards, \n",
    "            hours_independent_study]\n",
    "\n",
    "# Generate data for 300 students\n",
    "data = []\n",
    "\n",
    "for _ in range(300):\n",
    "    data.append(generate_student_data())\n",
    "\n",
    "# Save data to CSV file\n",
    "desktop_path = os.path.join(os.path.join(os.environ['USERPROFILE']), 'Desktop')\n",
    "csv_file_path = os.path.join(desktop_path, 'informatics_students_data.csv')\n",
    "\n",
    "with open(csv_file_path, mode='w', newline='', encoding='utf-8') as file:\n",
    "    writer = csv.writer(file)\n",
    "    writer.writerow(['Name', 'Class Year', 'Gender', 'GPA', 'Involve in Community', 'Number of Lecture Attendances', 'Average Grade in Informatics', \n",
    "                     'Number of Competitions', 'Number of Bootcamps', 'Number of Awards', \n",
    "                     'Hours of Independent Study (in a day)'])\n",
    "    writer.writerows(data)\n",
    "    \n",
    "# desktop_path = os.path.join(os.path.join(os.environ['USERPROFILE']), 'Desktop'): Baris ini menghasilkan jalur lengkap ke folder desktop pengguna saat ini.\n",
    "\n",
    "# csv_file_path = os.path.join(desktop_path, 'informatics_students_data.csv'): Baris ini menggabungkan jalur lengkap ke folder desktop dengan nama file CSV yang kita inginkan, sehingga kita mendapatkan jalur lengkap ke file CSV yang akan disimpan.\n",
    "\n",
    "# with open(csv_file_path, mode='w', newline='', encoding='utf-8') as file:: Kode ini membuka file CSV untuk ditulis dengan mode 'w' (write), dengan menentukan parameter newline='' untuk menghindari penambahan baris kosong tambahan antara baris data. Parameter encoding='utf-8' menentukan encoding yang digunakan saat menulis ke file (dalam hal ini, UTF-8).\n",
    "\n",
    "# writer = csv.writer(file): Baris ini membuat objek writer dari kelas csv.writer, yang akan kita gunakan untuk menulis data ke file CSV.\n",
    "\n",
    "# writer.writerow([...]): Kode ini menulis baris judul (header) ke file CSV, yang berisi nama kolom untuk setiap atribut mahasiswa.\n",
    "\n",
    "# writer.writerows(data): Baris ini menulis semua data yang telah kita siapkan sebelumnya (data) ke dalam file CSV.\n",
    "\n",
    "print(\"Dataset saved successfully at:\", csv_file_path)"
   ]
  },
  {
   "cell_type": "code",
   "execution_count": 2,
   "metadata": {},
   "outputs": [
    {
     "data": {
      "text/plain": [
       "0      Aditya Setiawan\n",
       "1      Putri Anggraini\n",
       "2         Budi Santoso\n",
       "3      Siti Nurhasanah\n",
       "4         Dian Pratama\n",
       "            ...       \n",
       "135       Sari Pratiwi\n",
       "136      Rudi Setiawan\n",
       "137     Maya Wulandari\n",
       "138     Ahmad Setiawan\n",
       "139       Rina Pratiwi\n",
       "Name: Name, Length: 140, dtype: object"
      ]
     },
     "execution_count": 2,
     "metadata": {},
     "output_type": "execute_result"
    }
   ],
   "source": [
    "import pandas as pd\n",
    "df = pd.read_csv(\"https://raw.githubusercontent.com/LouisFernando1204/InformaticsStudentsDataset/main/informaticsstudents_dataset\")\n",
    "df[\"Name\"]"
   ]
  },
  {
   "cell_type": "code",
   "execution_count": 3,
   "metadata": {},
   "outputs": [
    {
     "name": "stdout",
     "output_type": "stream",
     "text": [
      "Nilai yang kembar dalam kolom Name: []\n"
     ]
    }
   ],
   "source": [
    "import pandas as pd\n",
    "\n",
    "def cek_kembar(kolom):\n",
    "    nilai_kembar = []\n",
    "    nilai_unik = set()\n",
    "\n",
    "    for nilai in kolom:\n",
    "        if nilai in nilai_unik:\n",
    "            nilai_kembar.append(nilai)\n",
    "        else:\n",
    "            nilai_unik.add(nilai)\n",
    "\n",
    "    return nilai_kembar\n",
    "\n",
    "# Membaca dataset (gantilah 'nama_file.csv' dengan nama file sebenarnya)\n",
    "dataset = pd.read_csv('informatics_students_data.csv')\n",
    "\n",
    "# Kolom yang ingin Anda periksa\n",
    "kolom_yang_dicek = 'Name'\n",
    "\n",
    "# Memeriksa nilai yang kembar dalam kolom tertentu\n",
    "nilai_kolom = dataset[kolom_yang_dicek].tolist()\n",
    "nilai_kembar = cek_kembar(nilai_kolom)\n",
    "\n",
    "# Mencetak nilai yang kembar\n",
    "print(\"Nilai yang kembar dalam kolom {}: {}\".format(kolom_yang_dicek, nilai_kembar))\n"
   ]
  }
 ],
 "metadata": {
  "kernelspec": {
   "display_name": "Python 3",
   "language": "python",
   "name": "python3"
  },
  "language_info": {
   "codemirror_mode": {
    "name": "ipython",
    "version": 3
   },
   "file_extension": ".py",
   "mimetype": "text/x-python",
   "name": "python",
   "nbconvert_exporter": "python",
   "pygments_lexer": "ipython3",
   "version": "3.12.2"
  }
 },
 "nbformat": 4,
 "nbformat_minor": 2
}
