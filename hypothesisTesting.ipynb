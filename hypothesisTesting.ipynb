{
 "cells": [
  {
   "cell_type": "code",
   "execution_count": 1,
   "metadata": {},
   "outputs": [
    {
     "name": "stderr",
     "output_type": "stream",
     "text": [
      "C:\\Users\\Asus\\AppData\\Local\\Temp\\ipykernel_2924\\3188416017.py:3: DeprecationWarning: \n",
      "Pyarrow will become a required dependency of pandas in the next major release of pandas (pandas 3.0),\n",
      "(to allow more performant data types, such as the Arrow string type, and better interoperability with other libraries)\n",
      "but was not found to be installed on your system.\n",
      "If this would cause problems for you,\n",
      "please provide us feedback at https://github.com/pandas-dev/pandas/issues/54466\n",
      "        \n",
      "  import pandas as pd\n"
     ]
    }
   ],
   "source": [
    "# Import needed library\n",
    "import numpy as np\n",
    "import pandas as pd\n",
    "import scipy.stats as st"
   ]
  },
  {
   "cell_type": "code",
   "execution_count": 2,
   "metadata": {},
   "outputs": [],
   "source": [
    "# Function to retrieve critical value from z-table\n",
    "def get_z_table(alpha, tail):\n",
    "  if tail == 1:\n",
    "    return st.norm.ppf(1 - alpha)\n",
    "  elif tail == 2:\n",
    "    return st.norm.ppf(1 - (alpha / 2))\n",
    "\n",
    "# Function to retrieve critical value from t-table\n",
    "def get_t_table(alpha, tail, dof):\n",
    "  if tail == 2:\n",
    "    alpha /= 2  \n",
    "  return st.t.isf([alpha], [dof])[0]"
   ]
  },
  {
   "cell_type": "code",
   "execution_count": 8,
   "metadata": {},
   "outputs": [
    {
     "name": "stdout",
     "output_type": "stream",
     "text": [
      "1.9710144927536233 2.084507042253521\n"
     ]
    }
   ],
   "source": [
    "df = pd.read_csv(\"https://raw.githubusercontent.com/LouisFernando1204/InformaticsStudentsDataset/main/informaticsstudents_dataset\")\n",
    "# df.head()\n",
    "\n",
    "# TESTING\n",
    "df_Male = df.loc[df['Gender'] == 'Male']\n",
    "df_NumberofCompetitions_Male = df_Male['Number of Competitions']\n",
    "df_Female = df.loc[df['Gender'] == 'Female']\n",
    "df_NumberofCompetitions_Female = df_Female['Number of Competitions']\n",
    "alpha_levelSignificance = 0.05\n",
    "tailType = 2\n",
    "Xbar_Male = np.mean(df_NumberofCompetitions_Male)\n",
    "Xbar_Female = np.mean(df_NumberofCompetitions_Female)\n",
    "\n",
    "print(Xbar_Male, Xbar_Female)\n"
   ]
  },
  {
   "cell_type": "markdown",
   "metadata": {},
   "source": [
    "Among the vibrant community of Informatics students at ITS, there exists a notable cohort consistently \n",
    "achieving a GPA above 3.5. This observation suggests that their academic acumen surpasses the conventional \n",
    "threshold, reflecting a culture of excellence within the department."
   ]
  },
  {
   "cell_type": "code",
   "execution_count": 9,
   "metadata": {},
   "outputs": [
    {
     "name": "stdout",
     "output_type": "stream",
     "text": [
      "t_computed = -1.20\n",
      "t_tableResult = 1.66\n",
      "Fail to Reject H0. The average GPA of all Informatics Students at ITS is not more than 3.5 GPA.\n"
     ]
    }
   ],
   "source": [
    "# Step 1: State null and alternate hypothesis\n",
    "# H0: Miu <= 3.5\n",
    "# H1: Miu > 3.5\n",
    "\n",
    "\n",
    "# Step 2: Select level of significance\n",
    "alpha_levelSignificance= 0.05\n",
    "tailType = 1\n",
    "df_GPA = df['GPA']\n",
    "Xbar_sampleMean = df_GPA.mean()\n",
    "Miu_populationMean = 3.5\n",
    "\n",
    "std_dev_sample = np.std(df_GPA, ddof = 1)\n",
    "# The standard is directly divided by N, but because we want to calculate the std for the sample, \n",
    "# we have to divide by n-1\n",
    "\n",
    "n_sampleSize = df_GPA.count()\n",
    "degree_of_freedom = n_sampleSize - 1\n",
    "\n",
    "\n",
    "# Step 3: Identify the test statistics\n",
    "# Using the T-Test because the standard deviation for the population is unknown\n",
    "\n",
    "\n",
    "# Step 4: Formulate a decision rule by first determining the critical values of T.\n",
    "# Reject H0 if t_computed > t_tableResult(alpha, n-1)\n",
    "# If the t_computed result is more than t_tableResult then reject H0 (H1 / Alternative Hypothesis is proven), \n",
    "# but if t_computed is less than t_tableResult then don't reject H0 (H1 / Alternative Hypothesis is not proven)\n",
    "\n",
    "\n",
    "# Step 5: Take a sample, arrive at decision\n",
    "t_computed = (Xbar_sampleMean-Miu_populationMean) / (std_dev_sample / np.sqrt(n_sampleSize))\n",
    "t_tableResult = get_t_table(alpha_levelSignificance, tailType, degree_of_freedom)\n",
    "print(\"t_computed = {:.2f}\".format(t_computed))\n",
    "print(\"t_tableResult = {:.2f}\".format(t_tableResult))\n",
    "\n",
    "\n",
    "# Step 6: Interpret the result\n",
    "if t_computed > t_tableResult:\n",
    "  print(\"H0 rejected. The average GPA of all Informatics Students at ITS is more than 3.5 GPA.\")\n",
    "else:\n",
    "  print(\"Fail to Reject H0. The average GPA of all Informatics Students at ITS is not more than 3.5 GPA.\")"
   ]
  },
  {
   "cell_type": "markdown",
   "metadata": {},
   "source": [
    "Amidst the academic endeavors at Institut Teknologi Sepuluh Nopember (ITS), an unspoken consensus emerges regarding the duration of independent study among Informatics students. It hints that the average hours dedicated to independent study surpasses the conventional expectation of three hours."
   ]
  },
  {
   "cell_type": "code",
   "execution_count": 10,
   "metadata": {},
   "outputs": [
    {
     "name": "stdout",
     "output_type": "stream",
     "text": [
      "t_computed = 3.50\n",
      "t_tableResult = 1.66\n",
      "H0 rejected. The average Hours of Independent Study (per day) of all Informatics Students is more than 3 hours.\n"
     ]
    }
   ],
   "source": [
    "# Step 1: State null and alternate hypothesis\n",
    "# H0: Miu <= 3\n",
    "# H1: Miu > 3\n",
    "\n",
    "\n",
    "# Step 2: Select level of significance\n",
    "alpha_levelSignificance= 0.05\n",
    "tailType = 1\n",
    "df_HoursofIndependentStudy = df['Hours of Independent Study (per day)']\n",
    "Xbar_sampleMean = df_HoursofIndependentStudy.mean()\n",
    "Miu_populationMean = 3\n",
    "\n",
    "std_dev_sample = np.std(df_HoursofIndependentStudy, ddof = 1)\n",
    "# The standard is directly divided by N, but because we want to calculate the std for the sample, \n",
    "# we have to divide by n-1\n",
    "\n",
    "n_sampleSize = df_HoursofIndependentStudy.count()\n",
    "degree_of_freedom = n_sampleSize - 1\n",
    "\n",
    "\n",
    "# Step 3: Identify the test statistics\n",
    "# Using the T-Test because the standard deviation for the population is unknown\n",
    "\n",
    "\n",
    "# Step 4: Formulate a decision rule by first determining the critical values of T.\n",
    "# Reject H0 if t_computed > t_tableResult(alpha, n-1)\n",
    "# If the t_computed result is more than t_tableResult then reject H0 (H1 / Alternative Hypothesis is proven), \n",
    "# but if t_computed is less than t_tableResult then don't reject H0 (H1 / Alternative Hypothesis is not proven)\n",
    "\n",
    "\n",
    "# Step 5: Take a sample, arrive at decision\n",
    "t_computed = (Xbar_sampleMean-Miu_populationMean) / (std_dev_sample / np.sqrt(n_sampleSize))\n",
    "t_tableResult = get_t_table(alpha_levelSignificance, tailType, degree_of_freedom)\n",
    "print(\"t_computed = {:.2f}\".format(t_computed))\n",
    "print(\"t_tableResult = {:.2f}\".format(t_tableResult))\n",
    "\n",
    "\n",
    "# Step 6: Interpret the result\n",
    "if t_computed > t_tableResult:\n",
    "  print(\"H0 rejected. The average Hours of Independent Study (per day) of all Informatics Students is more than 3 hours.\")\n",
    "else:\n",
    "  print(\"Fail to Reject H0. The average Hours of Independent Study (per day) of all Informatics Students is not more than 3 hours.\")"
   ]
  },
  {
   "cell_type": "markdown",
   "metadata": {},
   "source": [
    "Within the academic fabric of Institut Teknologi Sepuluh Nopember (ITS), the cohort from the class of 2019 stands as a testament to excellence in Informatics. Their collective academic performance indicates that the average grade of the class of 2019 surpasses that of the class of 2022."
   ]
  },
  {
   "cell_type": "code",
   "execution_count": 11,
   "metadata": {},
   "outputs": [
    {
     "name": "stdout",
     "output_type": "stream",
     "text": [
      "Standard deviation of the pooled sample = 16.0916\n",
      "t_computed = -0.983\n",
      "t_tableResult = 1.668\n",
      "Fail to Reject H0. The average of Average Grade of class year 2019 is not more than class year of 2022.\n"
     ]
    }
   ],
   "source": [
    "# Step 1: State the null and alternate hypothesis\n",
    "# H0: Miu_2019 <= Miu_2022\n",
    "# H1: Miu_2019 > Miu_2022\n",
    "\n",
    "\n",
    "# Step 2: Select the level of significance\n",
    "df_2019 = df.loc[df['Class Year'] == 2019]\n",
    "df_AverageGrade_2019 = df_2019['Average Grade in Informatics']\n",
    "df_2022 = df.loc[df['Class Year'] == 2022]\n",
    "df_AverageGrade_2022 = df_2022['Average Grade in Informatics']\n",
    "alpha_levelSignificance = 0.05\n",
    "tailType = 1\n",
    "Xbar_2019 = np.mean(df_AverageGrade_2019)\n",
    "Xbar_2022 = np.mean(df_AverageGrade_2022)\n",
    "\n",
    "# For sample standard deviation in numpy we need to supply delta degree of freedom (ddof) with 1\n",
    "std_dev_sample_2019 = np.std(df_AverageGrade_2019, ddof=1)\n",
    "std_dev_sample_2022 = np.std(df_AverageGrade_2022, ddof=1)\n",
    "# The standard is directly divided by N, but because we want to calculate the std for the sample, \n",
    "# we have to divide by n-1\n",
    "\n",
    "n_2019 = df_AverageGrade_2019.count()\n",
    "n_2022 = df_AverageGrade_2022.count()\n",
    "degreeOfFreedom = n_2019 + n_2022 - 2\n",
    "\n",
    "std_dev_pooled_sample = ((n_2019 - 1) * np.power(std_dev_sample_2019, 2) + \n",
    "                        (n_2022 - 1) * np.power(std_dev_sample_2022, 2)) / degreeOfFreedom\n",
    "print(\"Standard deviation of the pooled sample = {:.4f}\".format(std_dev_pooled_sample))\n",
    "\n",
    "\n",
    "# Step 3: Determine the test statistics \n",
    "# Independent Samples\n",
    "# Because the population standard deviations are not known but are assumed to be equal, \n",
    "# we use the pooled t-test\n",
    "\n",
    "\n",
    "# Step 4: Formulate the decision rule\n",
    "# Reject H0 if t_computed > t_tableResult(alpha, n-1)\n",
    "# If the t_computed result is more than t_tableResult then reject H0 (H1 / Alternative Hypothesis is proven), \n",
    "# but if t_computed is less than t_tableResult then don't reject H0 (H1 / Alternative Hypothesis is not proven)\n",
    "\n",
    "\n",
    "# Step 5: Make decision regarding H0\n",
    "t_computed = (Xbar_2019 - Xbar_2022) / np.sqrt(std_dev_pooled_sample * (1/n_2019 + 1/n_2022))\n",
    "t_tableResult = get_t_table(alpha_levelSignificance, tailType, degreeOfFreedom)\n",
    "print(\"t_computed = {:.3f}\".format(t_computed))\n",
    "print(\"t_tableResult = {:.3f}\".format(t_tableResult))\n",
    "\n",
    "\n",
    "# Step 6: Interpret the result\n",
    "if t_computed > t_tableResult:\n",
    "  print(\"H0 rejected. The average of Average Grade of class year 2019 is more than class year of 2022.\")\n",
    "else:\n",
    "  print(\"Fail to Reject H0. The average of Average Grade of class year 2019 is not more than class year of 2022.\")"
   ]
  },
  {
   "cell_type": "markdown",
   "metadata": {},
   "source": [
    "In the diverse landscape of Informatics at Institut Teknologi Sepuluh Nopember (ITS), male and female students exhibit varied engagement in competitions. This suggests that the average number of competitions participated in by male students differs significantly from that of female students."
   ]
  },
  {
   "cell_type": "code",
   "execution_count": 14,
   "metadata": {},
   "outputs": [
    {
     "name": "stdout",
     "output_type": "stream",
     "text": [
      "Standard deviation of the pooled sample = 0.5466\n",
      "t_computed = -0.908\n",
      "t_tableResult = 1.977\n",
      "Fail to Reject H0. There is no difference average Number of Competitions between male and female students.\n"
     ]
    }
   ],
   "source": [
    "# Step 1: State the null and alternate hypothesis\n",
    "# H0: Miu_Male = Miu_Female\n",
    "# H1: Miu_Male != Miu_Female\n",
    "\n",
    "\n",
    "# Step 2: Select the level of significance\n",
    "df_Male = df.loc[df['Gender'] == 'Male']\n",
    "df_NumberofCompetitions_Male = df_Male['Number of Competitions']\n",
    "df_Female = df.loc[df['Gender'] == 'Female']\n",
    "df_NumberofCompetitions_Female = df_Female['Number of Competitions']\n",
    "alpha_levelSignificance = 0.05\n",
    "tailType = 2\n",
    "Xbar_Male = np.mean(df_NumberofCompetitions_Male)\n",
    "Xbar_Female = np.mean(df_NumberofCompetitions_Female)\n",
    "\n",
    "# For sample standard deviation in numpy we need to supply delta degree of freedom (ddof) with 1\n",
    "std_dev_sample_Male = np.std(df_NumberofCompetitions_Male, ddof=1)\n",
    "std_dev_sample_Female = np.std(df_NumberofCompetitions_Female, ddof=1)\n",
    "# The standard is directly divided by N, but because we want to calculate the std for the sample, \n",
    "# we have to divide by n-1\n",
    "\n",
    "n_Male = df_NumberofCompetitions_Male.count()\n",
    "n_Female = df_NumberofCompetitions_Female.count()\n",
    "degreeOfFreedom = n_Male + n_Female - 2\n",
    "\n",
    "std_dev_pooled_sample = ((n_Male - 1) * np.power(std_dev_sample_Male, 2) + \n",
    "                        (n_Female - 1) * np.power(std_dev_sample_Female, 2)) / degreeOfFreedom\n",
    "print(\"Standard deviation of the pooled sample = {:.4f}\".format(std_dev_pooled_sample))\n",
    "\n",
    "\n",
    "# Step 3: Determine the test statistics \n",
    "# Independent Samples\n",
    "# Because the population standard deviations are not known but are assumed to be equal, \n",
    "# we use the pooled t-test\n",
    "\n",
    "\n",
    "# Step 4: Formulate the decision rule\n",
    "# Reject H0 if t_computed > t_tableResult atau t_computed < -t_tableResult (H1 / Alternative Hypothesis is proven)\n",
    "# Alternatively we could use the absolute value of |t_computed| > t_tableResult (alpha/2, n-1)\n",
    "\n",
    "\n",
    "# Step 5: Make decision regarding H0\n",
    "t_computed = (Xbar_Male - Xbar_Female) / np.sqrt(std_dev_pooled_sample * (1/n_Male + 1/n_Female))\n",
    "t_tableResult = get_t_table(alpha_levelSignificance, tailType, degreeOfFreedom)\n",
    "print(\"t_computed = {:.3f}\".format(t_computed))\n",
    "print(\"t_tableResult = {:.3f}\".format(t_tableResult))\n",
    "\n",
    "\n",
    "# Step 6: Interpret the result\n",
    "if (t_computed > t_tableResult) | (t_computed < -t_tableResult):\n",
    "  print(\"H0 rejected. There is a difference average Number of Competitions between male and female students.\")\n",
    "else:\n",
    "  print(\"Fail to Reject H0. There is no difference average Number of Competitions between male and female students.\")"
   ]
  }
 ],
 "metadata": {
  "kernelspec": {
   "display_name": "Python 3",
   "language": "python",
   "name": "python3"
  },
  "language_info": {
   "codemirror_mode": {
    "name": "ipython",
    "version": 3
   },
   "file_extension": ".py",
   "mimetype": "text/x-python",
   "name": "python",
   "nbconvert_exporter": "python",
   "pygments_lexer": "ipython3",
   "version": "3.12.2"
  }
 },
 "nbformat": 4,
 "nbformat_minor": 2
}
